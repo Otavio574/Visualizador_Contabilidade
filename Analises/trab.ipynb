{
 "cells": [
  {
   "cell_type": "code",
   "execution_count": 53,
   "metadata": {},
   "outputs": [],
   "source": [
    "import pandas as pd\n",
    "import matplotlib as mt\n",
    "import statsmodels.tsa.api as tsa\n"
   ]
  },
  {
   "cell_type": "code",
   "execution_count": 54,
   "metadata": {},
   "outputs": [
    {
     "data": {
      "text/html": [
       "<div>\n",
       "<style scoped>\n",
       "    .dataframe tbody tr th:only-of-type {\n",
       "        vertical-align: middle;\n",
       "    }\n",
       "\n",
       "    .dataframe tbody tr th {\n",
       "        vertical-align: top;\n",
       "    }\n",
       "\n",
       "    .dataframe thead th {\n",
       "        text-align: right;\n",
       "    }\n",
       "</style>\n",
       "<table border=\"1\" class=\"dataframe\">\n",
       "  <thead>\n",
       "    <tr style=\"text-align: right;\">\n",
       "      <th></th>\n",
       "      <th>Ano</th>\n",
       "      <th>Instituição</th>\n",
       "      <th>Cod.IBGE</th>\n",
       "      <th>UF</th>\n",
       "      <th>População</th>\n",
       "      <th>Coluna</th>\n",
       "      <th>Conta</th>\n",
       "      <th>Identificador da Conta</th>\n",
       "      <th>Valor (R$)</th>\n",
       "    </tr>\n",
       "  </thead>\n",
       "  <tbody>\n",
       "    <tr>\n",
       "      <th>0</th>\n",
       "      <td>2018</td>\n",
       "      <td>Governo do Estado do Mato Grosso</td>\n",
       "      <td>51</td>\n",
       "      <td>MT</td>\n",
       "      <td>3305531</td>\n",
       "      <td>Despesas Empenhadas</td>\n",
       "      <td>Despesas Exceto Intraorçamentárias</td>\n",
       "      <td>siconfi-cor_TotalDespesas</td>\n",
       "      <td>1.719944e+10</td>\n",
       "    </tr>\n",
       "    <tr>\n",
       "      <th>1</th>\n",
       "      <td>2018</td>\n",
       "      <td>Governo do Estado do Mato Grosso</td>\n",
       "      <td>51</td>\n",
       "      <td>MT</td>\n",
       "      <td>3305531</td>\n",
       "      <td>Despesas Empenhadas</td>\n",
       "      <td>01 - Legislativa</td>\n",
       "      <td>siconfi-cor_TotalDespesas</td>\n",
       "      <td>7.396900e+08</td>\n",
       "    </tr>\n",
       "    <tr>\n",
       "      <th>2</th>\n",
       "      <td>2018</td>\n",
       "      <td>Governo do Estado do Mato Grosso</td>\n",
       "      <td>51</td>\n",
       "      <td>MT</td>\n",
       "      <td>3305531</td>\n",
       "      <td>Despesas Empenhadas</td>\n",
       "      <td>01.031 - Ação Legislativa</td>\n",
       "      <td>siconfi-cor_TotalDespesas</td>\n",
       "      <td>4.221149e+07</td>\n",
       "    </tr>\n",
       "    <tr>\n",
       "      <th>3</th>\n",
       "      <td>2018</td>\n",
       "      <td>Governo do Estado do Mato Grosso</td>\n",
       "      <td>51</td>\n",
       "      <td>MT</td>\n",
       "      <td>3305531</td>\n",
       "      <td>Despesas Empenhadas</td>\n",
       "      <td>01.032 - Controle Externo</td>\n",
       "      <td>siconfi-cor_TotalDespesas</td>\n",
       "      <td>3.939978e+07</td>\n",
       "    </tr>\n",
       "    <tr>\n",
       "      <th>4</th>\n",
       "      <td>2018</td>\n",
       "      <td>Governo do Estado do Mato Grosso</td>\n",
       "      <td>51</td>\n",
       "      <td>MT</td>\n",
       "      <td>3305531</td>\n",
       "      <td>Despesas Empenhadas</td>\n",
       "      <td>01.122 - Administração Geral</td>\n",
       "      <td>siconfi-cor_TotalDespesas</td>\n",
       "      <td>5.592482e+08</td>\n",
       "    </tr>\n",
       "    <tr>\n",
       "      <th>...</th>\n",
       "      <td>...</td>\n",
       "      <td>...</td>\n",
       "      <td>...</td>\n",
       "      <td>...</td>\n",
       "      <td>...</td>\n",
       "      <td>...</td>\n",
       "      <td>...</td>\n",
       "      <td>...</td>\n",
       "      <td>...</td>\n",
       "    </tr>\n",
       "    <tr>\n",
       "      <th>59279</th>\n",
       "      <td>2021</td>\n",
       "      <td>Governo do Estado de Roraima</td>\n",
       "      <td>14</td>\n",
       "      <td>RR</td>\n",
       "      <td>631181</td>\n",
       "      <td>Inscrição de Restos a Pagar Processados</td>\n",
       "      <td>26.782 - Transporte Rodoviário</td>\n",
       "      <td>siconfi-cor_TotalDespesas</td>\n",
       "      <td>1.298341e+05</td>\n",
       "    </tr>\n",
       "    <tr>\n",
       "      <th>59280</th>\n",
       "      <td>2021</td>\n",
       "      <td>Governo do Estado de Roraima</td>\n",
       "      <td>14</td>\n",
       "      <td>RR</td>\n",
       "      <td>631181</td>\n",
       "      <td>Inscrição de Restos a Pagar Processados</td>\n",
       "      <td>27 - Desporto e Lazer</td>\n",
       "      <td>siconfi-cor_TotalDespesas</td>\n",
       "      <td>1.954263e+05</td>\n",
       "    </tr>\n",
       "    <tr>\n",
       "      <th>59281</th>\n",
       "      <td>2021</td>\n",
       "      <td>Governo do Estado de Roraima</td>\n",
       "      <td>14</td>\n",
       "      <td>RR</td>\n",
       "      <td>631181</td>\n",
       "      <td>Inscrição de Restos a Pagar Processados</td>\n",
       "      <td>27.811 - Desporto de Rendimento</td>\n",
       "      <td>siconfi-cor_TotalDespesas</td>\n",
       "      <td>6.682500e+04</td>\n",
       "    </tr>\n",
       "    <tr>\n",
       "      <th>59282</th>\n",
       "      <td>2021</td>\n",
       "      <td>Governo do Estado de Roraima</td>\n",
       "      <td>14</td>\n",
       "      <td>RR</td>\n",
       "      <td>631181</td>\n",
       "      <td>Inscrição de Restos a Pagar Processados</td>\n",
       "      <td>27.812 - Desporto Comunitário</td>\n",
       "      <td>siconfi-cor_TotalDespesas</td>\n",
       "      <td>1.286013e+05</td>\n",
       "    </tr>\n",
       "    <tr>\n",
       "      <th>59283</th>\n",
       "      <td>2021</td>\n",
       "      <td>Governo do Estado de Roraima</td>\n",
       "      <td>14</td>\n",
       "      <td>RR</td>\n",
       "      <td>631181</td>\n",
       "      <td>Inscrição de Restos a Pagar Processados</td>\n",
       "      <td>Despesas Intraorçamentárias</td>\n",
       "      <td>siconfi-cor_TotalDespesas</td>\n",
       "      <td>5.821304e+06</td>\n",
       "    </tr>\n",
       "  </tbody>\n",
       "</table>\n",
       "<p>59284 rows × 9 columns</p>\n",
       "</div>"
      ],
      "text/plain": [
       "        Ano                       Instituição  Cod.IBGE  UF  População   \n",
       "0      2018  Governo do Estado do Mato Grosso        51  MT    3305531  \\\n",
       "1      2018  Governo do Estado do Mato Grosso        51  MT    3305531   \n",
       "2      2018  Governo do Estado do Mato Grosso        51  MT    3305531   \n",
       "3      2018  Governo do Estado do Mato Grosso        51  MT    3305531   \n",
       "4      2018  Governo do Estado do Mato Grosso        51  MT    3305531   \n",
       "...     ...                               ...       ...  ..        ...   \n",
       "59279  2021      Governo do Estado de Roraima        14  RR     631181   \n",
       "59280  2021      Governo do Estado de Roraima        14  RR     631181   \n",
       "59281  2021      Governo do Estado de Roraima        14  RR     631181   \n",
       "59282  2021      Governo do Estado de Roraima        14  RR     631181   \n",
       "59283  2021      Governo do Estado de Roraima        14  RR     631181   \n",
       "\n",
       "                                        Coluna   \n",
       "0                          Despesas Empenhadas  \\\n",
       "1                          Despesas Empenhadas   \n",
       "2                          Despesas Empenhadas   \n",
       "3                          Despesas Empenhadas   \n",
       "4                          Despesas Empenhadas   \n",
       "...                                        ...   \n",
       "59279  Inscrição de Restos a Pagar Processados   \n",
       "59280  Inscrição de Restos a Pagar Processados   \n",
       "59281  Inscrição de Restos a Pagar Processados   \n",
       "59282  Inscrição de Restos a Pagar Processados   \n",
       "59283  Inscrição de Restos a Pagar Processados   \n",
       "\n",
       "                                    Conta     Identificador da Conta   \n",
       "0      Despesas Exceto Intraorçamentárias  siconfi-cor_TotalDespesas  \\\n",
       "1                        01 - Legislativa  siconfi-cor_TotalDespesas   \n",
       "2               01.031 - Ação Legislativa  siconfi-cor_TotalDespesas   \n",
       "3               01.032 - Controle Externo  siconfi-cor_TotalDespesas   \n",
       "4            01.122 - Administração Geral  siconfi-cor_TotalDespesas   \n",
       "...                                   ...                        ...   \n",
       "59279      26.782 - Transporte Rodoviário  siconfi-cor_TotalDespesas   \n",
       "59280               27 - Desporto e Lazer  siconfi-cor_TotalDespesas   \n",
       "59281     27.811 - Desporto de Rendimento  siconfi-cor_TotalDespesas   \n",
       "59282       27.812 - Desporto Comunitário  siconfi-cor_TotalDespesas   \n",
       "59283         Despesas Intraorçamentárias  siconfi-cor_TotalDespesas   \n",
       "\n",
       "         Valor (R$)  \n",
       "0      1.719944e+10  \n",
       "1      7.396900e+08  \n",
       "2      4.221149e+07  \n",
       "3      3.939978e+07  \n",
       "4      5.592482e+08  \n",
       "...             ...  \n",
       "59279  1.298341e+05  \n",
       "59280  1.954263e+05  \n",
       "59281  6.682500e+04  \n",
       "59282  1.286013e+05  \n",
       "59283  5.821304e+06  \n",
       "\n",
       "[59284 rows x 9 columns]"
      ]
     },
     "execution_count": 54,
     "metadata": {},
     "output_type": "execute_result"
    }
   ],
   "source": [
    "dataframe = pd.read_excel('./FINBRA_Estados-DF_Despesas por Função_2018-2021 (1).xlsm', skiprows = 4)\n",
    "dataframe"
   ]
  },
  {
   "cell_type": "code",
   "execution_count": 55,
   "metadata": {},
   "outputs": [
    {
     "data": {
      "text/plain": [
       "Ano                         int64\n",
       "Instituição                object\n",
       "Cod.IBGE                    int64\n",
       "UF                         object\n",
       "População                   int64\n",
       "Coluna                     object\n",
       "Conta                      object\n",
       "Identificador da Conta     object\n",
       "Valor (R$)                float64\n",
       "dtype: object"
      ]
     },
     "execution_count": 55,
     "metadata": {},
     "output_type": "execute_result"
    }
   ],
   "source": [
    "dataframe.dtypes"
   ]
  },
  {
   "cell_type": "code",
   "execution_count": 56,
   "metadata": {},
   "outputs": [
    {
     "data": {
      "text/plain": [
       "Coluna\n",
       "Despesas Empenhadas                            13194\n",
       "Despesas Liquidadas                            13131\n",
       "Despesas Pagas                                 13085\n",
       "Inscrição de Restos a Pagar Processados        10015\n",
       "Inscrição de Restos a Pagar Não Processados     9859\n",
       "Name: count, dtype: int64"
      ]
     },
     "execution_count": 56,
     "metadata": {},
     "output_type": "execute_result"
    }
   ],
   "source": [
    "dataframe['Coluna'].value_counts()"
   ]
  },
  {
   "cell_type": "code",
   "execution_count": 57,
   "metadata": {},
   "outputs": [
    {
     "data": {
      "text/plain": [
       "Ano                       59284\n",
       "Instituição               59284\n",
       "Cod.IBGE                  59284\n",
       "UF                        59284\n",
       "População                 59284\n",
       "Coluna                    59284\n",
       "Conta                     59284\n",
       "Identificador da Conta    59284\n",
       "Valor (R$)                59284\n",
       "dtype: int64"
      ]
     },
     "execution_count": 57,
     "metadata": {},
     "output_type": "execute_result"
    }
   ],
   "source": [
    "#if \n",
    "dataframe.isnull().count()"
   ]
  },
  {
   "cell_type": "markdown",
   "metadata": {},
   "source": [
    "Criando os dataframes convenientes"
   ]
  },
  {
   "cell_type": "code",
   "execution_count": 63,
   "metadata": {},
   "outputs": [],
   "source": [
    "\n",
    "def dataframe_por_estado(uf):\n",
    "    novoDataFrame = dataframe[dataframe['UF'] == uf]\n",
    "    novoDataFrame\n",
    "    return novoDataFrame\n",
    "\n",
    "\n",
    "def dataframe_por_despesa(desp):\n",
    "     novoDataFrame = dataframe[dataframe['Coluna'] == despesa]\n",
    "     return novoDataFrame\n"
   ]
  },
  {
   "cell_type": "markdown",
   "metadata": {},
   "source": [
    "Fazendo as somas por estado:"
   ]
  },
  {
   "cell_type": "code",
   "execution_count": 65,
   "metadata": {},
   "outputs": [
    {
     "name": "stdout",
     "output_type": "stream",
     "text": [
      "1\n",
      "140212356528.49\n"
     ]
    }
   ],
   "source": [
    "estado = input()\n",
    "\n",
    "def soma_por_estado(estado): \n",
    "    soma = dataframe_por_estado(estado)['Valor (R$)'].sum()\n",
    "    print(soma)\n",
    "    \n"
   ]
  },
  {
   "cell_type": "markdown",
   "metadata": {},
   "source": [
    "Fazendo as somas de acordo com o tipo de despesa"
   ]
  }
 ],
 "metadata": {
  "kernelspec": {
   "display_name": "Python 3",
   "language": "python",
   "name": "python3"
  },
  "language_info": {
   "codemirror_mode": {
    "name": "ipython",
    "version": 3
   },
   "file_extension": ".py",
   "mimetype": "text/x-python",
   "name": "python",
   "nbconvert_exporter": "python",
   "pygments_lexer": "ipython3",
   "version": "3.10.6"
  },
  "orig_nbformat": 4
 },
 "nbformat": 4,
 "nbformat_minor": 2
}
